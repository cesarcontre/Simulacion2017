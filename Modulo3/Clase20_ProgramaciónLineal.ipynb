{
 "cells": [
  {
   "cell_type": "markdown",
   "metadata": {},
   "source": [
    "# Programación lineal"
   ]
  },
  {
   "cell_type": "markdown",
   "metadata": {},
   "source": [
    "## 1. Problemas de programación lineal\n",
    "\n",
    "De acuerdo a lo visto la clase pasada, un problema de programación lineal puede escribirse en la siguiente forma:\n",
    "\n",
    "\\begin{equation}\n",
    "\\begin{array}{ll}\n",
    "\\min_{x_1,\\dots,x_n} & f_1x_1+\\dots+f_nx_n \\\\\n",
    "\\text{s. a. }        & a^{eq}_{j,1}x_1+\\dots+a^{eq}_{j,n}x_n=b^{eq}_j \\text{ para } 1\\leq j\\leq m_1 \\\\\n",
    "                     & a_{k,1}x_1+\\dots+a_{k,n}x_n\\leq b_k \\text{ para } 1\\leq k\\leq m_2,\n",
    "\\end{array}\n",
    "\\end{equation}\n",
    "donde:\n",
    "- $x_i$ para $i=1,\\dots,n$ son las incógnitas o variables de decisión,\n",
    "- $f_i$ para $i=1,\\dots,n$ son los coeficientes de la función a optimizar,\n",
    "- $a^{eq}_{j,i}$ para $j=1,\\dots,m_1$ e $i=1,\\dots,n$, son los coeficientes de la restricción de igualdad,\n",
    "- $a_{k,i}$ para $k=1,\\dots,m_2$ e $i=1,\\dots,n$, son los coeficientes de la restricción de desigualdad,\n",
    "- $b^{eq}_j$ para $j=1,\\dots,m_1$ son valores conocidos que deben ser respetados estrictamente, y\n",
    "- $b_k$ para $k=1,\\dots,m_2$ son valores conocidos que no deben ser superados.\n",
    "\n",
    "Equivalentemente, el problema puede escribirse como\n",
    "\n",
    "\\begin{equation}\n",
    "\\begin{array}{ll}\n",
    "\\min_{\\boldsymbol{x}} & \\boldsymbol{f}^T\\boldsymbol{x} \\\\\n",
    "\\text{s. a. }        & \\boldsymbol{A}_{eq}\\boldsymbol{x}=\\boldsymbol{b}_{eq} \\\\\n",
    "                     & \\boldsymbol{A}\\boldsymbol{x}\\leq\\boldsymbol{b},\n",
    "\\end{array}\n",
    "\\end{equation}\n",
    "donde:\n",
    "- $\\boldsymbol{x}=\\left[x_1\\quad\\dots\\quad x_n\\right]^T$,\n",
    "- $\\boldsymbol{f}=\\left[f_1\\quad\\dots\\quad f_n\\right]^T$,\n",
    "- $\\boldsymbol{A}_{eq}=\\left[\\begin{array}{ccc}a^{eq}_{1,1} & \\dots & a^{eq}_{1,n}\\\\ \\vdots & \\ddots & \\vdots\\\\ a^{eq}_{m_1,1} & \\dots & a^{eq}_{m_1,n}\\end{array}\\right]$,\n",
    "- $\\boldsymbol{A}=\\left[\\begin{array}{ccc}a_{1,1} & \\dots & a_{1,n}\\\\ \\vdots & \\ddots & \\vdots\\\\ a_{m_2,1} & \\dots & a_{m_2,n}\\end{array}\\right]$,\n",
    "- $\\boldsymbol{b}_{eq}=\\left[b^{eq}_1\\quad\\dots\\quad b^{eq}_{m_1}\\right]^T$, y\n",
    "- $\\boldsymbol{b}=\\left[b_1\\quad\\dots\\quad b_{m_2}\\right]^T$.\n",
    "\n",
    "**Nota:** el problema $\\max_{\\boldsymbol{x}}\\boldsymbol{g}(\\boldsymbol{x})$ es equivalente a $\\min_{\\boldsymbol{x}}-\\boldsymbol{g}(\\boldsymbol{x})$."
   ]
  },
  {
   "cell_type": "markdown",
   "metadata": {},
   "source": [
    "## 2. Explicar la función pyomo_utilities.py\n",
    "\n",
    "Para trabajar con `pyomo`:\n",
    "1. `pyomo` a parte de contener funciones para optimización, es en sí un lenguaje de programación. No tiene solucionadores instalados, utiliza solucionadores externos (glpk, ipopt).\n",
    "2. Modelos concretos y modelos abstractos.\n",
    "3. Forma de ingresarle los parámetros para un modelo abstracto.\n",
    "4. Resultados."
   ]
  },
  {
   "cell_type": "markdown",
   "metadata": {},
   "source": [
    "## 3. Ejemplos de la clase pasada\n",
    "\n",
    "### 3.1 \n",
    "Una compañía produce dos productos ($X_1$ y $X_2$) usando dos máquinas ($A$ y $B$). Cada unidad de $X_1$ que se produce requiere 50 minutos en la máquina $A$ y 30 minutos en la máquina $B$. Cada unidad de $X_2$ que se produce requiere 24 minutos en la máquina $A$ y 33 minutos en la máquina $B$.\n",
    "\n",
    "Al comienzo de la semana hay 30 unidades de $X_1$ y 90 unidades de $X_2$ en inventario. El tiempo de uso disponible de la máquina $A$ es de 40 horas y el de la máquina $B$ es de 35 horas.\n",
    "\n",
    "La demanda para $X_1$ en la semana actual es de 75 unidades y de $X_2$ es de 95 unidades. La política de la compañía es maximizar la suma combinada de unidades de $X_1$ e $X_2$ en inventario al finalizar la semana.\n",
    "\n",
    "Formular el problema de decidir cuánto hacer de cada producto en la semana como un problema de programación lineal."
   ]
  },
  {
   "cell_type": "markdown",
   "metadata": {},
   "source": [
    "### Solución\n",
    "\n",
    "Sean:\n",
    "- $x_1$ la cantidad de unidades de $X_1$ a ser producidas en la semana, y\n",
    "- $x_2$ la cantidad de unidades de $X_2$ a ser producidas en la semana.\n",
    "\n",
    "\\begin{equation}\n",
    "\\begin{array}{ll}\n",
    "\\min_{\\boldsymbol{x}} & \\boldsymbol{f}^T\\boldsymbol{x} \\\\\n",
    "\\text{s. a. }        & \\boldsymbol{A}_{eq}\\boldsymbol{x}=\\boldsymbol{b}_{eq} \\\\\n",
    "                     & \\boldsymbol{A}\\boldsymbol{x}\\leq\\boldsymbol{b},\n",
    "\\end{array}\n",
    "\\end{equation}\n",
    "con\n",
    "- $\\boldsymbol{f}=\\left[-1 \\quad -1\\right]^T$,\n",
    "- $\\boldsymbol{A}_{eq}=\\left[0\\quad 0\\right]$,\n",
    "- $\\boldsymbol{A}=\\left[\\begin{array}{cc}50 & 24 \\\\ 30 & 33\\\\ -1 & 0\\\\ 0 & -1\\end{array}\\right]$,\n",
    "- $\\boldsymbol{b}_{eq}=0$, y\n",
    "- $\\boldsymbol{b}=\\left[2400\\quad 2100\\quad -45\\quad -5\\right]^T$."
   ]
  },
  {
   "cell_type": "code",
   "execution_count": 1,
   "metadata": {},
   "outputs": [
    {
     "name": "stdout",
     "output_type": "stream",
     "text": [
      "\"\"\"\r\n",
      "Author: Esteban Jiménez Rodríguez\r\n",
      "Institution: ITESO - Universidad Jesuita de Guadalajara\r\n",
      "Date: 01/11/2017\r\n",
      "Description: This script contains functions that make possible to use the pyomo\r\n",
      "library directly.\r\n",
      "\"\"\"\r\n",
      "\r\n",
      "from __future__ import division\r\n",
      "import numpy as np\r\n",
      "import pyomo.environ\r\n",
      "import pyomo.opt\r\n",
      "    \r\n",
      "def dat_write_lin(f, A, b, Aeq, beq):\r\n",
      "    # Dimensions of matrices\r\n",
      "    m1 = b.shape[0]\r\n",
      "    n = f.shape[0]\r\n",
      "    m2 = beq.shape[0]\r\n",
      "\r\n",
      "    # Creation and opening of the data file\r\n",
      "    dat_file = open('default.dat', 'w')\r\n",
      "    \r\n",
      "    # Write the matrices in the data file\r\n",
      "    dat_file.write('# This file is automatically generated by the linprog function\\n');\r\n",
      "    dat_file.write('param m1 := %i ;\\nparam m2 := %i ;\\nparam n := %i ;\\nparam A := \\n'%(m1, m2, n));\r\n",
      "    for i in range(m1):\r\n",
      "        for k in range(n):\r\n",
      "            dat_file.write('%i %i %e\\n'%(i+1, k+1, A[i, k]));\r\n",
      "    dat_file.write(';\\nparam b := \\n');\r\n",
      "    for i in range(m1):\r\n",
      "        dat_file.write('%i %e\\n'%(i+1, b[i]));\r\n",
      "    dat_file.write(';\\nparam Aeq := \\n');\r\n",
      "    for j in range(m2):\r\n",
      "        for k in range(n):\r\n",
      "            dat_file.write('%i %i %e\\n'%(j+1, k+1, Aeq[j, k]));\r\n",
      "    dat_file.write(';\\nparam beq := \\n');\r\n",
      "    for j in range(m2):\r\n",
      "        dat_file.write('%i %e\\n'%(j+1, beq[j]));\r\n",
      "    dat_file.write(';\\nparam f := \\n');\r\n",
      "    for k in range(n):\r\n",
      "        dat_file.write('%i %e\\n'%(k+1, f[k]));\r\n",
      "    dat_file.write(';');\r\n",
      "    \r\n",
      "    # Closing the data file\r\n",
      "    dat_file.close()\r\n",
      "    \r\n",
      "def linprog_model():   \r\n",
      "    model = pyomo.environ.AbstractModel()\r\n",
      "    \r\n",
      "    model.m1 = pyomo.environ.Param(within=pyomo.environ.NonNegativeIntegers)\r\n",
      "    model.m2 = pyomo.environ.Param(within=pyomo.environ.NonNegativeIntegers)\r\n",
      "    model.n = pyomo.environ.Param(within=pyomo.environ.NonNegativeIntegers)\r\n",
      "    \r\n",
      "    model.I = pyomo.environ.RangeSet(1, model.m1)\r\n",
      "    model.J = pyomo.environ.RangeSet(1, model.m2)\r\n",
      "    model.K = pyomo.environ.RangeSet(1, model.n)\r\n",
      "    \r\n",
      "    model.A = pyomo.environ.Param(model.I, model.K)\r\n",
      "    model.b = pyomo.environ.Param(model.I)\r\n",
      "    model.Aeq = pyomo.environ.Param(model.J, model.K)\r\n",
      "    model.beq = pyomo.environ.Param(model.J)\r\n",
      "    model.f = pyomo.environ.Param(model.K)\r\n",
      "    \r\n",
      "    # the next line declares a variable indexed by the set J\r\n",
      "    model.x = pyomo.environ.Var(model.K)\r\n",
      "    \r\n",
      "    def obj_expression(model):\r\n",
      "        return pyomo.environ.summation(model.f, model.x)\r\n",
      "    \r\n",
      "    model.OBJ = pyomo.environ.Objective(rule=obj_expression)\r\n",
      "    \r\n",
      "    def ax_ineq_constraint(model, i):\r\n",
      "        # return the expression for the inequality constraint for i\r\n",
      "        return sum(model.A[i,k] * model.x[k] for k in model.K) <= model.b[i]\r\n",
      "    \r\n",
      "    def ax_eq_constraint(model, j):\r\n",
      "        # return the expression for the equality constraint for j\r\n",
      "        if sum(model.Aeq[j,k] * model.x[k] for k in model.K) == model.beq[j]:\r\n",
      "            return pyomo.environ.Constraint.Feasible\r\n",
      "        else:\r\n",
      "            return sum(model.Aeq[j,k] * model.x[k] for k in model.K) == model.beq[j]\r\n",
      "    \r\n",
      "    # the next line creates one ineq constraint for each member of the set model.I\r\n",
      "    model.AxleqbConstraint = pyomo.environ.Constraint(model.I, rule=ax_ineq_constraint)\r\n",
      "    # the next line creates one equality constraint for each member of the set model.J\r\n",
      "    model.AxeqbConstraint = pyomo.environ.Constraint(model.J, rule=ax_eq_constraint)\r\n",
      "\r\n",
      "    return model\r\n",
      "    \r\n",
      "def linprog(f, A, b, Aeq=None, beq=None):\r\n",
      "    # Dimensions of matrices\r\n",
      "    m1 = b.shape[0]\r\n",
      "    n = f.shape[0]\r\n",
      "    \r\n",
      "    # b must be a vector\r\n",
      "    if b.ndim != 1:\r\n",
      "        raise ValueError('b must be a one dimensional array')\r\n",
      "    # A must be a matrix\r\n",
      "    if A.ndim != 2:\r\n",
      "        raise ValueError('A must be a two dimensional array')\r\n",
      "    \r\n",
      "    # Dimension check for inequality constraint\r\n",
      "    if A.shape != (m1, n):\r\n",
      "        raise ValueError('The shape of A must be equal to (b.shape[0], f.shape[0])')\r\n",
      "    \r\n",
      "    # If no equality restriction\r\n",
      "    if np.any(Aeq == None) & np.any(beq == None):\r\n",
      "        Aeq = np.zeros((1,n))\r\n",
      "        beq = np.zeros((1,))\r\n",
      "        m2 = 1\r\n",
      "    elif (np.any(Aeq != None) & np.any(beq == None)) | (np.any(Aeq == None) & np.any(beq != None)):\r\n",
      "        raise ValueError('Please provide Aeq and beq if there is an equality constraint. If there is not, please provide none of them.')\r\n",
      "    else:\r\n",
      "        # Dimension of matrices\r\n",
      "        m2 = beq.shape[0]\r\n",
      "        \r\n",
      "        # beq must be a vector\r\n",
      "        if beq.ndim != 1:\r\n",
      "            raise ValueError('b must be a one dimensional array')\r\n",
      "        # Aeq must be a matrix\r\n",
      "        if Aeq.ndim != 2:\r\n",
      "            raise ValueError('A must be a two dimensional array')\r\n",
      "        # Dimension check for equality constraint\r\n",
      "        if Aeq.shape != (m2, n):\r\n",
      "            raise ValueError('The shape of Aeq must be equal to (beq.shape[0], f.shape[0])')\r\n",
      "        \r\n",
      "    # Data file creation\r\n",
      "    dat_write_lin('default', f, A, b, Aeq, beq)\r\n",
      "    \r\n",
      "    # Solution\r\n",
      "    model = linprog_model()\r\n",
      "    # Create the model instance\r\n",
      "    instance = model.create_instance('default.dat')\r\n",
      "    # Setup the optimizer: linear in this case\r\n",
      "    import pyomo.environ\r\n",
      "    opt = pyomo.opt.SolverFactory('glpk')    \r\n",
      "    # Optimize\r\n",
      "    results = opt.solve(instance)\r\n",
      "    # Write the output\r\n",
      "    results.write()\r\n",
      "    \r\n",
      "    # Optimal solution\r\n",
      "    x = np.array([instance.x[k].value for k in instance.K])\r\n",
      "    return x, pyomo.environ.value(instance.OBJ)\r\n",
      "    \r\n",
      "\r\n",
      "# Example\r\n",
      "#A = np.array([[-3,-4]])\r\n",
      "#f = np.array([2,3])\r\n",
      "#b = np.array([-1])\r\n",
      "#x, f = linprog(f, A, b)\r\n"
     ]
    }
   ],
   "source": [
    "!cat pyomo_utilities.py"
   ]
  },
  {
   "cell_type": "code",
   "execution_count": 2,
   "metadata": {
    "collapsed": true
   },
   "outputs": [],
   "source": [
    "import numpy as np\n",
    "f = np.array([2, 3])\n",
    "A = np.array([[-3, -4]])\n",
    "b = np.array([1])\n",
    "Aeq = np.array([[0, 0]])\n",
    "beq = np.array([0])"
   ]
  },
  {
   "cell_type": "code",
   "execution_count": 3,
   "metadata": {
    "collapsed": true
   },
   "outputs": [],
   "source": [
    "import pyomo_utilities\n",
    "pyomo_utilities.dat_write_lin(f, A, b, Aeq, beq)"
   ]
  },
  {
   "cell_type": "markdown",
   "metadata": {},
   "source": [
    "### 3.2\n",
    "Mónica hace aretes y cadenitas de joyería. Es tan buena, que todo lo que hace lo vende.\n",
    "\n",
    "Le toma 30 minutos hacer un par de aretes y una hora hacer una cadenita, y como Mónica también es estudihambre, solo dispone de 10 horas a la semana para hacer las joyas. Por otra parte, el material que compra solo le alcanza para hacer 15 unidades (el par de aretes cuenta como unidad) de joyas por semana.\n",
    "\n",
    "La utilidad que le deja la venta de las joyas es \\$15 en cada par de aretes y \\$20 en cada cadenita.\n",
    "\n",
    "¿Cuántos pares de aretes y cuántas cadenitas debería hacer Mónica para maximizar su utilidad?\n",
    "\n",
    "Formular el problema en la forma explicada y obtener la solución gráfica (puede ser a mano)."
   ]
  },
  {
   "cell_type": "markdown",
   "metadata": {},
   "source": [
    "### Solución\n",
    "\n",
    "Sean:\n",
    "- $x_1$ la cantidad de pares de aretes que hace Mónica.\n",
    "- $x_2$ la cantidad de cadenitas que hace Mónica.\n",
    "\n",
    "\n",
    "\\begin{equation}\n",
    "\\begin{array}{ll}\n",
    "\\min_{\\boldsymbol{x}} & \\boldsymbol{f}^T\\boldsymbol{x} \\\\\n",
    "\\text{s. a. }        & \\boldsymbol{A}_{eq}\\boldsymbol{x}=\\boldsymbol{b}_{eq} \\\\\n",
    "                     & \\boldsymbol{A}\\boldsymbol{x}\\leq\\boldsymbol{b},\n",
    "\\end{array}\n",
    "\\end{equation}\n",
    "con\n",
    "- $\\boldsymbol{f}=\\left[-15 \\quad -20\\right]^T$,\n",
    "- $\\boldsymbol{A}_{eq}=\\left[0\\quad 0\\right]$,\n",
    "- $\\boldsymbol{A}=\\left[\\begin{array}{cc}0.5 & 1 \\\\ 1 & 1\\\\ -1 & 0\\\\ 0 & -1\\end{array}\\right]$,\n",
    "- $\\boldsymbol{b}_{eq}=0$, y\n",
    "- $\\boldsymbol{b}=\\left[10\\quad 15\\quad 0\\quad 0\\right]^T$."
   ]
  },
  {
   "cell_type": "code",
   "execution_count": null,
   "metadata": {
    "collapsed": true
   },
   "outputs": [],
   "source": []
  },
  {
   "cell_type": "code",
   "execution_count": null,
   "metadata": {
    "collapsed": true
   },
   "outputs": [],
   "source": []
  },
  {
   "cell_type": "code",
   "execution_count": null,
   "metadata": {
    "collapsed": true
   },
   "outputs": [],
   "source": []
  },
  {
   "cell_type": "code",
   "execution_count": null,
   "metadata": {
    "collapsed": true
   },
   "outputs": [],
   "source": []
  },
  {
   "cell_type": "markdown",
   "metadata": {},
   "source": [
    "## 4. Problema de transporte\n",
    "\n",
    "- **Referencia**: https://es.wikipedia.org/wiki/Programaci%C3%B3n_lineal\n",
    "\n",
    "<img style=\"float: right; margin: 0px 0px 15px 15px;\" src=\"https://upload.wikimedia.org/wikipedia/commons/a/a0/Progr_Lineal.PNG\" width=\"400px\" height=\"125px\" />\n",
    "\n",
    "Este es un caso curioso, con solo 6 variables (un caso real de problema de transporte puede tener fácilmente más de 1.000 variables) en el cual se aprecia la utilidad de este procedimiento de cálculo.\n",
    "\n",
    "Existen tres minas de carbón cuya producción diaria es:\n",
    "- la mina \"a\" produce 40 toneladas de carbón por día;\n",
    "- la mina \"b\" produce 40 t/día; y,\n",
    "- la mina \"c\" produce 20 t/día.\n",
    "\n",
    "En la zona hay dos centrales termoeléctricas que consumen:\n",
    "- la central \"d\" consume 40 t/día de carbón; y,\n",
    "- la central \"e\" consume 60 t/día.\n",
    "\n",
    "Los costos de mercado, de transporte por tonelada son:\n",
    "- de \"a\" a \"d\" = 2 monedas;\n",
    "- de \"a\" a \"e\" = 11 monedas;\n",
    "- de \"b\" a \"d\" = 12 monedas;\n",
    "- de \"b\" a \"e\" = 24 monedas;\n",
    "- de \"c\" a \"d\" = 13 monedas; y,\n",
    "- de \"c\" a \"e\" = 18 monedas.\n",
    "\n",
    "Si se preguntase a los pobladores de la zona cómo organizar el transporte, tal vez la mayoría opinaría que debe aprovecharse el precio ofrecido por el transportista que va de \"a\" a \"d\", porque es más conveniente que los otros, debido a que es el de más bajo precio.\n",
    "\n",
    "En este caso, el costo total del transporte es:\n",
    "- transporte de 40 t de \"a\" a \"d\" = 80 monedas;\n",
    "- transporte de 20 t de \"c\" a \"e\" = 360 monedas; y,\n",
    "- transporte de 40 t de \"b\" a \"e\" = 960 monedas,\n",
    "    \n",
    "Para un total 1.400 monedas.\n",
    "\n",
    "Sin embargo, formulando el problema para ser resuelto por la programación lineal se tienen las siguientes ecuaciones:\n",
    "\n",
    "Restricciones de la producción:\n",
    "\n",
    "- $x_1 + x_2 \\leq 40$\n",
    "- $x_3 + x_4 \\leq 40$\n",
    "- $x_5 + x_6 \\leq 20$\n",
    "\n",
    "Restricciones del consumo:\n",
    "\n",
    "- $x_1 + x_3 + x_5 \\geq 40$\n",
    "- $x_2 + x_4 + x_6 \\geq 60$\n",
    "\n",
    "La función objetivo será:\n",
    "\n",
    "$$\\min_{x_1,\\dots,x_6}2x_1 + 11x_2 + 12x_3 + 24x_4 + 13x_5 + 18x_6$$"
   ]
  },
  {
   "cell_type": "code",
   "execution_count": null,
   "metadata": {
    "collapsed": true
   },
   "outputs": [],
   "source": []
  },
  {
   "cell_type": "code",
   "execution_count": null,
   "metadata": {
    "collapsed": true
   },
   "outputs": [],
   "source": []
  },
  {
   "cell_type": "code",
   "execution_count": null,
   "metadata": {
    "collapsed": true
   },
   "outputs": [],
   "source": []
  },
  {
   "cell_type": "code",
   "execution_count": null,
   "metadata": {
    "collapsed": true
   },
   "outputs": [],
   "source": []
  },
  {
   "cell_type": "markdown",
   "metadata": {},
   "source": [
    "La solución de costo mínimo de transporte diario resulta ser:\n",
    "\n",
    "- $x_2 = 40$ resultando un costo de $11(40) = 480$ monedas\n",
    "- $x_3 = 40$ resultando un costo de $12(40) = 440$ monedas\n",
    "- $x_6 = 20$ resultando un costo de $18(20) = 360$ monedas\n",
    "    \n",
    "para un total de $1280$ monedas, $120$ monedas menos que antes."
   ]
  },
  {
   "cell_type": "markdown",
   "metadata": {},
   "source": [
    "<script>\n",
    "  $(document).ready(function(){\n",
    "    $('div.prompt').hide();\n",
    "    $('div.back-to-top').hide();\n",
    "    $('nav#menubar').hide();\n",
    "    $('.breadcrumb').hide();\n",
    "    $('.hidden-print').hide();\n",
    "  });\n",
    "</script>\n",
    "\n",
    "<footer id=\"attribution\" style=\"float:right; color:#808080; background:#fff;\">\n",
    "Created with Jupyter by Esteban Jiménez Rodríguez.\n",
    "</footer>"
   ]
  }
 ],
 "metadata": {
  "kernelspec": {
   "display_name": "Python 3",
   "language": "python",
   "name": "python3"
  },
  "language_info": {
   "codemirror_mode": {
    "name": "ipython",
    "version": 3
   },
   "file_extension": ".py",
   "mimetype": "text/x-python",
   "name": "python",
   "nbconvert_exporter": "python",
   "pygments_lexer": "ipython3",
   "version": "3.6.2"
  }
 },
 "nbformat": 4,
 "nbformat_minor": 2
}
